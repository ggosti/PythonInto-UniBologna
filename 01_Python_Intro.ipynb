{
  "nbformat": 4,
  "nbformat_minor": 0,
  "metadata": {
    "colab": {
      "provenance": [],
      "authorship_tag": "ABX9TyMLq1V6CBgVhyPB0qI5AL3T",
      "include_colab_link": true
    },
    "kernelspec": {
      "name": "python3",
      "display_name": "Python 3"
    },
    "language_info": {
      "name": "python"
    }
  },
  "cells": [
    {
      "cell_type": "markdown",
      "metadata": {
        "id": "view-in-github",
        "colab_type": "text"
      },
      "source": [
        "<a href=\"https://colab.research.google.com/github/ggosti/PythonInto-UniBologna/blob/main/01_Python_Intro.ipynb\" target=\"_parent\"><img src=\"https://colab.research.google.com/assets/colab-badge.svg\" alt=\"Open In Colab\"/></a>"
      ]
    },
    {
      "cell_type": "markdown",
      "source": [
        "# Notebooks"
      ],
      "metadata": {
        "id": "4ATkyZChduoB"
      }
    },
    {
      "cell_type": "markdown",
      "source": [
        "Notebooks are a great way to mix executable code with rich contents (HTML, images, equations written in LaTeX).\n",
        "\n",
        "Notebooks consist of so-called code cells, blocks of one or more Python instructions."
      ],
      "metadata": {
        "id": "Yl-SiHDldyqj"
      }
    },
    {
      "cell_type": "code",
      "execution_count": null,
      "metadata": {
        "id": "AzzbZ9fadoo_"
      },
      "outputs": [],
      "source": []
    },
    {
      "cell_type": "markdown",
      "source": [
        "For example, here is a code cell that stores the result of a computation (the number of seconds in a day) in a variable and prints its value:"
      ],
      "metadata": {
        "id": "RAbKJaTNeOK4"
      }
    },
    {
      "cell_type": "code",
      "source": [],
      "metadata": {
        "id": "BqoUS9RNeViS"
      },
      "execution_count": null,
      "outputs": []
    },
    {
      "cell_type": "markdown",
      "source": [
        "Click on the \"play\" button to execute the cell. You should be able to see the result. Alternatively, you can also execute the cell by pressing **Ctrl + Enter** if you are on Windows / Linux or Command + Enter if you are on a Mac."
      ],
      "metadata": {
        "id": "V3IIhAzdeyjA"
      }
    },
    {
      "cell_type": "markdown",
      "source": [
        "Lines starting with an \"#\" character are NOT executed by python, and are called COMMENTS"
      ],
      "metadata": {
        "id": "uQu8z4MRegxs"
      }
    },
    {
      "cell_type": "code",
      "source": [
        "# lines starting with an \"#\" character are NOT executed by python, and are called COMMENTS"
      ],
      "metadata": {
        "id": "kSInpn9gej8U"
      },
      "execution_count": null,
      "outputs": []
    },
    {
      "cell_type": "markdown",
      "source": [
        "Variables that you defined in one cell can later be used in other cells:"
      ],
      "metadata": {
        "id": "2jMg5lOHkIKU"
      }
    },
    {
      "cell_type": "code",
      "source": [],
      "metadata": {
        "id": "JhK8Y6_8kOA2"
      },
      "execution_count": null,
      "outputs": []
    },
    {
      "cell_type": "code",
      "source": [],
      "metadata": {
        "id": "DO89xJC-kPY_"
      },
      "execution_count": null,
      "outputs": []
    },
    {
      "cell_type": "markdown",
      "source": [
        "Note that the order of execution is important. For instance, if we do not run the cell storing *seconds_in_a_day* beforehand, the above cell will raise an error, as it depends on this variable. To make sure that you run all the cells in the correct order, you can also click on \"Runtime\" in the top-level menu, then \"Run all\"."
      ],
      "metadata": {
        "id": "_6PoUOD5kYwt"
      }
    },
    {
      "cell_type": "markdown",
      "source": [
        "**Exercise.** Add a cell below this cell: click on this cell then click on \"+ Code\". In the new cell, compute the number of seconds in a year by reusing the variable *seconds_in_a_day*. Run the new cell."
      ],
      "metadata": {
        "id": "y6Mt5PnhkaJX"
      }
    },
    {
      "cell_type": "code",
      "source": [],
      "metadata": {
        "id": "03luwa1ZkZLj"
      },
      "execution_count": null,
      "outputs": []
    },
    {
      "cell_type": "code",
      "source": [],
      "metadata": {
        "id": "_5J0xuvVkd22"
      },
      "execution_count": null,
      "outputs": []
    },
    {
      "cell_type": "markdown",
      "source": [
        "# Python"
      ],
      "metadata": {
        "id": "fQCA0JoCkeg6"
      }
    },
    {
      "cell_type": "markdown",
      "source": [
        "## Arithmetic operations\n"
      ],
      "metadata": {
        "id": "4begGpLEkmGy"
      }
    },
    {
      "cell_type": "markdown",
      "source": [
        "Python supports the usual arithmetic operators: + (addition), * (multiplication), / (division), ** (power), // (integer division)."
      ],
      "metadata": {
        "id": "ohATvn7Wkn1m"
      }
    },
    {
      "cell_type": "code",
      "source": [],
      "metadata": {
        "id": "fDCYYOZikfwA"
      },
      "execution_count": null,
      "outputs": []
    },
    {
      "cell_type": "markdown",
      "source": [],
      "metadata": {
        "id": "iNjk2dyxkr_o"
      }
    },
    {
      "cell_type": "markdown",
      "metadata": {
        "id": "UhcbBQUiStHG"
      },
      "source": [
        "## Lists"
      ]
    },
    {
      "cell_type": "markdown",
      "metadata": {
        "id": "RkPn1IjNTCxA"
      },
      "source": [
        "Lists are a container type for ordered sequences of elements. Lists can be initialized empty.\n",
        "This is how I create `my_list`:"
      ]
    },
    {
      "cell_type": "code",
      "metadata": {
        "id": "OrnV1ySAPtHp",
        "colab": {
          "base_uri": "https://localhost:8080/"
        },
        "outputId": "63675b35-efc8-4fc2-9cf9-15d88431980f"
      },
      "source": [],
      "execution_count": null,
      "outputs": [
        {
          "output_type": "stream",
          "name": "stdout",
          "text": [
            "[]\n"
          ]
        }
      ]
    },
    {
      "cell_type": "markdown",
      "metadata": {
        "id": "OwRqyYI9XnPK"
      },
      "source": [
        "or with some initial elements"
      ]
    },
    {
      "cell_type": "code",
      "metadata": {
        "id": "Uq5YTJ1JXpOX",
        "colab": {
          "base_uri": "https://localhost:8080/"
        },
        "outputId": "82ce6f14-fa30-40ae-b472-d0dcbd2fd17d"
      },
      "source": [
        "# this_is_my_list is called the snake-case for naming variables\n",
        "\n",
        "# ThisIsMyList is called the camel-case for naming variables\n",
        "\n"
      ],
      "execution_count": null,
      "outputs": [
        {
          "output_type": "stream",
          "name": "stdout",
          "text": [
            "[1, 2, 3]\n"
          ]
        }
      ]
    },
    {
      "cell_type": "markdown",
      "metadata": {
        "id": "Hk2WmojJXyyz"
      },
      "source": [
        "Lists have a dynamic size and elements can be added (appended) to them"
      ]
    },
    {
      "cell_type": "code",
      "metadata": {
        "id": "QFTNqiYiXxAh",
        "colab": {
          "base_uri": "https://localhost:8080/"
        },
        "outputId": "5f0dd094-1a70-4d09-c332-26baf3f42673"
      },
      "source": [
        "# the following line of code apply the \"append\" function on the \"my_list\" object\n",
        "# (list). append will add the element specified to the end of the list.\n",
        "\n"
      ],
      "execution_count": null,
      "outputs": [
        {
          "output_type": "execute_result",
          "data": {
            "text/plain": [
              "[1, 2, 3, 5, 5]"
            ]
          },
          "metadata": {},
          "execution_count": 6
        }
      ]
    },
    {
      "cell_type": "markdown",
      "metadata": {
        "id": "IUnJuqQ2Yhzw"
      },
      "source": [
        "We can access individual elements of a list (indexing starts from 0)"
      ]
    },
    {
      "cell_type": "code",
      "metadata": {
        "id": "pyFxyZPVYpG_",
        "colab": {
          "base_uri": "https://localhost:8080/"
        },
        "outputId": "ff6d6094-6421-46d7-8db8-ac6c516dd75c"
      },
      "source": [
        "# we accesss the THIRD element of the list, because python starts counting from 0\n",
        "print(my_list[2])\n",
        "print()\n",
        "# out of range error, because the list has 5 elements and I try to print the 6th one\n",
        "# print(my_list[5])\n"
      ],
      "execution_count": null,
      "outputs": [
        {
          "output_type": "stream",
          "name": "stdout",
          "text": [
            "3\n",
            "5\n"
          ]
        }
      ]
    },
    {
      "cell_type": "markdown",
      "metadata": {
        "id": "hPMrIDYsdgMP"
      },
      "source": [
        "We can access \"slices\" of a list using `my_list[i:j]` where `i` is the start of the slice (again, indexing starts from 0) and `j` the end of the slice. For instance:"
      ]
    },
    {
      "cell_type": "code",
      "metadata": {
        "id": "Ichf9p0gd7tJ",
        "colab": {
          "base_uri": "https://localhost:8080/"
        },
        "outputId": "18eab6f8-66b8-4cab-9964-64fe2c1c1b75"
      },
      "source": [],
      "execution_count": null,
      "outputs": [
        {
          "output_type": "execute_result",
          "data": {
            "text/plain": [
              "[2, 3]"
            ]
          },
          "metadata": {},
          "execution_count": 8
        }
      ]
    },
    {
      "cell_type": "markdown",
      "metadata": {
        "id": "KMbzH4tzQ9rI"
      },
      "source": [
        "Omitting the second index means that the slice shoud run until the end of the list"
      ]
    },
    {
      "cell_type": "code",
      "metadata": {
        "id": "O7wCthKnREKV",
        "colab": {
          "base_uri": "https://localhost:8080/"
        },
        "outputId": "7196aa72-1fb1-4363-cb92-a4e0abe7ac47"
      },
      "source": [],
      "execution_count": null,
      "outputs": [
        {
          "output_type": "execute_result",
          "data": {
            "text/plain": [
              "[2, 3, 5, 5]"
            ]
          },
          "metadata": {},
          "execution_count": 9
        }
      ]
    },
    {
      "cell_type": "markdown",
      "metadata": {
        "id": "C5Aeu7PUebrK"
      },
      "source": [
        "We can check if an element is in the list using `in`.\n",
        "The result is the first appearance of a logical (boolean) value, i.e. True/False"
      ]
    },
    {
      "cell_type": "code",
      "metadata": {
        "id": "a_P5NCi-efvb",
        "colab": {
          "base_uri": "https://localhost:8080/"
        },
        "outputId": "34bfa31c-6f46-43ff-9119-5be21a880d6e"
      },
      "source": [],
      "execution_count": null,
      "outputs": [
        {
          "output_type": "stream",
          "name": "stdout",
          "text": [
            "True\n",
            "False\n"
          ]
        }
      ]
    },
    {
      "cell_type": "markdown",
      "metadata": {
        "id": "LypIsP5gkl10"
      },
      "source": [
        "The length of a list can be obtained using the `len` function"
      ]
    },
    {
      "cell_type": "code",
      "metadata": {
        "id": "ac0FMsaKkrWc",
        "colab": {
          "base_uri": "https://localhost:8080/"
        },
        "outputId": "2ae502d2-de89-4f20-af5e-fdcaf6cf9005"
      },
      "source": [],
      "execution_count": null,
      "outputs": [
        {
          "output_type": "execute_result",
          "data": {
            "text/plain": [
              "5"
            ]
          },
          "metadata": {},
          "execution_count": 11
        }
      ]
    },
    {
      "cell_type": "markdown",
      "metadata": {
        "id": "1c3RLStf7G2I"
      },
      "source": [
        "## Strings"
      ]
    },
    {
      "cell_type": "markdown",
      "metadata": {
        "id": "Jm6hZhgz7KhI"
      },
      "source": [
        "Strings are used to store text. They can delimited using either single quotes or double quotes"
      ]
    },
    {
      "cell_type": "code",
      "metadata": {
        "id": "cCma6Oj_7T8n"
      },
      "source": [],
      "execution_count": null,
      "outputs": []
    },
    {
      "cell_type": "code",
      "source": [
        "# If a \"number\" is quoted, it is interpreted as a character, so cannot be added,\n",
        "# multiplied, etc.\n",
        "# \"1\" * \"2\""
      ],
      "metadata": {
        "id": "wSO1RVHjTEuZ"
      },
      "execution_count": null,
      "outputs": []
    },
    {
      "cell_type": "markdown",
      "metadata": {
        "id": "Irr4xuWu7Znu"
      },
      "source": [
        "Strings behave similarly to lists. As such we can access individual elements in exactly the same way"
      ]
    },
    {
      "cell_type": "code",
      "metadata": {
        "id": "26_POhLO7iM3",
        "colab": {
          "base_uri": "https://localhost:8080/",
          "height": 36
        },
        "outputId": "4c14a810-1eea-4ed9-cc4f-c74e30c4564e"
      },
      "source": [],
      "execution_count": null,
      "outputs": [
        {
          "output_type": "execute_result",
          "data": {
            "text/plain": [
              "'e'"
            ],
            "application/vnd.google.colaboratory.intrinsic+json": {
              "type": "string"
            }
          },
          "metadata": {},
          "execution_count": 14
        }
      ]
    },
    {
      "cell_type": "markdown",
      "metadata": {
        "id": "oA_UD0JV7oPw"
      },
      "source": [
        "and similarly for slices"
      ]
    },
    {
      "cell_type": "code",
      "metadata": {
        "id": "dcZFcLqQ7qCe",
        "colab": {
          "base_uri": "https://localhost:8080/",
          "height": 36
        },
        "outputId": "56a5f726-5bcd-4326-a487-c5c381c42db4"
      },
      "source": [],
      "execution_count": null,
      "outputs": [
        {
          "output_type": "execute_result",
          "data": {
            "text/plain": [
              "'text'"
            ],
            "application/vnd.google.colaboratory.intrinsic+json": {
              "type": "string"
            }
          },
          "metadata": {},
          "execution_count": 15
        }
      ]
    },
    {
      "cell_type": "markdown",
      "metadata": {
        "id": "hOQ_CIiu76YG"
      },
      "source": [
        "String concatenation is performed using the `+` operator"
      ]
    },
    {
      "cell_type": "code",
      "metadata": {
        "id": "mxqNMKCY79_W",
        "colab": {
          "base_uri": "https://localhost:8080/"
        },
        "outputId": "20dff612-6101-40a3-a5cb-e8d650d2e880"
      },
      "source": [
        "print(string1 + \" \" + string2)\n",
        "print(string1 + \"\" + string2)\n",
        "print(string1 + string2)\n",
        "print(string1[5:] + \" \" + string2[:5])"
      ],
      "execution_count": null,
      "outputs": [
        {
          "output_type": "stream",
          "name": "stdout",
          "text": [
            "some text some other text\n",
            "some textsome other text\n",
            "some textsome other text\n",
            "text some \n"
          ]
        }
      ]
    },
    {
      "cell_type": "markdown",
      "metadata": {
        "id": "7Lox2GZCMdIB"
      },
      "source": [
        "## Conditionals"
      ]
    },
    {
      "cell_type": "markdown",
      "metadata": {
        "id": "-gXEAWFZfDTT"
      },
      "source": [
        "As their name indicates, conditionals are a way to execute code depending on whether a condition is True or False. As in other languages, Python supports `if` and `else` but `else if` is contracted into `elif`, as the example below demonstrates."
      ]
    },
    {
      "cell_type": "code",
      "source": [
        "my_variable = 5\n",
        "if my_variable < 0:\n",
        "  print(\"negative\")"
      ],
      "metadata": {
        "id": "tE-lO1UBVejM"
      },
      "execution_count": null,
      "outputs": []
    },
    {
      "cell_type": "markdown",
      "source": [
        "The condition of the if statement MUST return True or False"
      ],
      "metadata": {
        "id": "SuoBdAZJW5VO"
      }
    },
    {
      "cell_type": "code",
      "source": [
        "my_variable = 5\n",
        "if my_variable > 0:\n",
        "  print(\"positive\")\n",
        "  print(\"positive again\")\n",
        "print(\"I don't know\")"
      ],
      "metadata": {
        "colab": {
          "base_uri": "https://localhost:8080/"
        },
        "id": "NQhwR_GjVs8v",
        "outputId": "c75bfb60-4aae-43c3-f13e-dbe0de15c404"
      },
      "execution_count": null,
      "outputs": [
        {
          "output_type": "stream",
          "name": "stdout",
          "text": [
            "positive\n",
            "positive again\n",
            "I don't know\n"
          ]
        }
      ]
    },
    {
      "cell_type": "markdown",
      "source": [
        "Even if statements like the following works (in some sense), be sure that the condition of an if statment returns True or False"
      ],
      "metadata": {
        "id": "C4oA-bjzXcSC"
      }
    },
    {
      "cell_type": "code",
      "source": [
        "my_variable = 5\n",
        "if my_variable - 10:\n",
        "  print(\"positive\")\n",
        "  print(\"positive again\")\n",
        "print(\"I don't know\")"
      ],
      "metadata": {
        "colab": {
          "base_uri": "https://localhost:8080/"
        },
        "id": "a8MvK_tnXBRV",
        "outputId": "b62b4783-6969-486c-b680-305d1615cdab"
      },
      "execution_count": null,
      "outputs": [
        {
          "output_type": "stream",
          "name": "stdout",
          "text": [
            "positive\n",
            "positive again\n",
            "I don't know\n"
          ]
        }
      ]
    },
    {
      "cell_type": "markdown",
      "source": [
        "In case the condition is false what is inside the if statement is skipped.\n",
        "The lines of code \"inside\" an if statement are thos with indentation."
      ],
      "metadata": {
        "id": "s-IeztaWXlTA"
      }
    },
    {
      "cell_type": "code",
      "source": [
        "my_variable = -5\n",
        "if my_variable > 0:\n",
        "  print(\"positive\")\n",
        "  print(\"positive again\")\n",
        "print(\"I don't know\")"
      ],
      "metadata": {
        "colab": {
          "base_uri": "https://localhost:8080/"
        },
        "id": "tNELOC4nWhUy",
        "outputId": "4ce492d7-0dc9-4baf-ba5c-2d109c22fb7c"
      },
      "execution_count": null,
      "outputs": [
        {
          "output_type": "stream",
          "name": "stdout",
          "text": [
            "I don't know\n"
          ]
        }
      ]
    },
    {
      "cell_type": "markdown",
      "source": [
        "The equality is checked with \"==\", because the single \"=\" is used for assignments."
      ],
      "metadata": {
        "id": "8vxqRzKmYC4_"
      }
    },
    {
      "cell_type": "code",
      "source": [
        "my_variable = -5\n",
        "if my_variable == 0:\n",
        "  print(\"positive\")\n",
        "  print(\"positive again\")\n",
        "print(\"I don't know\")"
      ],
      "metadata": {
        "colab": {
          "base_uri": "https://localhost:8080/"
        },
        "id": "6mbfdiugX02o",
        "outputId": "f168d947-1a24-441d-cee7-5e7a5da4ad27"
      },
      "execution_count": null,
      "outputs": [
        {
          "output_type": "stream",
          "name": "stdout",
          "text": [
            "I don't know\n"
          ]
        }
      ]
    },
    {
      "cell_type": "code",
      "metadata": {
        "id": "xC_DMZjofoYZ",
        "colab": {
          "base_uri": "https://localhost:8080/"
        },
        "outputId": "47ed7836-6bd4-46d5-96e7-3673afd79989"
      },
      "source": [
        "my_variable = -0.3\n",
        "if my_variable < 0:\n",
        "  print(\"negative\")\n",
        "elif my_variable == 0:\n",
        "  print(\"null\")\n",
        "else: # my_variable > 0\n",
        "  print(\"positive\")"
      ],
      "execution_count": null,
      "outputs": [
        {
          "output_type": "stream",
          "name": "stdout",
          "text": [
            "negative\n"
          ]
        }
      ]
    },
    {
      "cell_type": "markdown",
      "metadata": {
        "id": "Ag0SUokSf9jl"
      },
      "source": [
        "Here `<` and `>` are the strict `less` and `greater than` operators, while `==` is the equality operator (not to be confused with `=`, the variable assignment operator). The operators `<=` and `>=` can be used for less (resp. greater) than or equal comparisons."
      ]
    },
    {
      "cell_type": "markdown",
      "metadata": {
        "id": "qTkQ2F_jy8wz"
      },
      "source": [
        "Contrary to other languages, blocks of code are delimited using **indentation**. Here, we use 2-space indentation but many programmers also use 4-space indentation. Any one is fine as long as you are consistent throughout your code."
      ]
    },
    {
      "cell_type": "markdown",
      "metadata": {
        "id": "clWaFCzBMfkv"
      },
      "source": [
        "## Loops"
      ]
    },
    {
      "cell_type": "markdown",
      "metadata": {
        "id": "_A5doqhTivWe"
      },
      "source": [
        "Loops are a way to execute a block of code multiple times. There are two main types of loops: while loops and for loops."
      ]
    },
    {
      "cell_type": "markdown",
      "metadata": {
        "id": "YN8lwTxQkGEa"
      },
      "source": [
        "While loop"
      ]
    },
    {
      "cell_type": "markdown",
      "source": [
        "While loop executes what's inside it as long as the condition is True. When the condition turns False, the While loop stops."
      ],
      "metadata": {
        "id": "8RD9g-fVauuY"
      }
    },
    {
      "cell_type": "code",
      "metadata": {
        "id": "7-QXGqgOjsr_",
        "colab": {
          "base_uri": "https://localhost:8080/"
        },
        "outputId": "e5f87870-6c84-4d20-e144-e3ea059cbd4e"
      },
      "source": [
        "i = 0\n",
        "while i < len(my_list):\n",
        "  print(my_list[i])\n",
        "  i += 1 # equivalent to i = i + 1"
      ],
      "execution_count": null,
      "outputs": [
        {
          "output_type": "stream",
          "name": "stdout",
          "text": [
            "1\n",
            "2\n",
            "3\n",
            "5\n",
            "5\n"
          ]
        }
      ]
    },
    {
      "cell_type": "markdown",
      "metadata": {
        "id": "8mEI_ocfkSvZ"
      },
      "source": [
        "For loop"
      ]
    },
    {
      "cell_type": "markdown",
      "source": [
        "For loops are used to execute the same lines of code, according to an index wich evolves according to the range or the list specified."
      ],
      "metadata": {
        "id": "s3r5UWMJcqQJ"
      }
    },
    {
      "cell_type": "code",
      "source": [
        "print(range(len(my_list)))\n",
        "for i in range(len(my_list)):\n",
        "  print(i)"
      ],
      "metadata": {
        "colab": {
          "base_uri": "https://localhost:8080/"
        },
        "id": "BCBTI45Oa4dZ",
        "outputId": "0aaf0e9c-35dd-4c73-fd18-bf12bc2318b2"
      },
      "execution_count": null,
      "outputs": [
        {
          "output_type": "stream",
          "name": "stdout",
          "text": [
            "range(0, 5)\n",
            "0\n",
            "1\n",
            "2\n",
            "3\n",
            "4\n"
          ]
        }
      ]
    },
    {
      "cell_type": "code",
      "metadata": {
        "id": "2QObx5mckMcI",
        "colab": {
          "base_uri": "https://localhost:8080/"
        },
        "outputId": "6562a027-f610-42a8-8daa-5da1d6ddf15f"
      },
      "source": [
        "for i in range(len(my_list)):\n",
        "  print(my_list[i])\n",
        "print(\"--------------\")\n",
        "for u in range(1,4):\n",
        "  print(my_list[u])\n",
        "print(\"--------------\")\n",
        "# list index out of range error, because the list does not have a 6-th element\n",
        "# for u in range(1,7):\n",
        "  # print(my_list[u])"
      ],
      "execution_count": null,
      "outputs": [
        {
          "output_type": "stream",
          "name": "stdout",
          "text": [
            "1\n",
            "2\n",
            "3\n",
            "5\n",
            "5\n",
            "--------------\n",
            "2\n",
            "3\n",
            "5\n",
            "--------------\n"
          ]
        }
      ]
    },
    {
      "cell_type": "markdown",
      "metadata": {
        "id": "XO6qqppikZvm"
      },
      "source": [
        "If the goal is simply to iterate over a list, we can do so directly as follows"
      ]
    },
    {
      "cell_type": "code",
      "metadata": {
        "id": "PjFKzN6zkeJ7",
        "colab": {
          "base_uri": "https://localhost:8080/"
        },
        "outputId": "b536013c-99fe-432b-88c0-359089b4cfe3"
      },
      "source": [
        "for element in my_list:\n",
        "  print(element*2)"
      ],
      "execution_count": null,
      "outputs": [
        {
          "output_type": "stream",
          "name": "stdout",
          "text": [
            "2\n",
            "4\n",
            "6\n",
            "10\n",
            "10\n"
          ]
        }
      ]
    },
    {
      "cell_type": "markdown",
      "metadata": {
        "id": "Cck4zwYrex02"
      },
      "source": [
        "## Functions"
      ]
    },
    {
      "cell_type": "markdown",
      "metadata": {
        "id": "n1PbIf_ohxFO"
      },
      "source": [
        "To improve code readability, it is common to separate the code into different blocks, responsible for performing precise actions: functions. A function takes some inputs and process them to return some outputs."
      ]
    },
    {
      "cell_type": "code",
      "metadata": {
        "id": "cImA09gOhRmx",
        "colab": {
          "base_uri": "https://localhost:8080/"
        },
        "outputId": "b4a7ae1d-7ca6-4162-92b7-8306b9884ffe"
      },
      "source": [
        "def multiply(a, b):\n",
        "  return a * b\n",
        "print(multiply(2,5))"
      ],
      "execution_count": null,
      "outputs": [
        {
          "output_type": "stream",
          "name": "stdout",
          "text": [
            "10\n"
          ]
        }
      ]
    },
    {
      "cell_type": "code",
      "source": [],
      "metadata": {
        "id": "_faf0dFAmbMN"
      },
      "execution_count": null,
      "outputs": []
    },
    {
      "cell_type": "code",
      "source": [
        "# Functions can be composed.\n",
        "multiply(3, 2)"
      ],
      "metadata": {
        "id": "AahdpUUUguu3",
        "colab": {
          "base_uri": "https://localhost:8080/"
        },
        "outputId": "81997547-aee9-4652-ecee-f145b4968be1"
      },
      "execution_count": null,
      "outputs": [
        {
          "output_type": "execute_result",
          "data": {
            "text/plain": [
              "36"
            ]
          },
          "metadata": {},
          "execution_count": 29
        }
      ]
    },
    {
      "cell_type": "markdown",
      "metadata": {
        "id": "75-5SOk9iYSt"
      },
      "source": [
        "To improve code readability, it is sometimes useful to explicitly name the arguments"
      ]
    },
    {
      "cell_type": "code",
      "metadata": {
        "id": "wkIUuZHhidI0",
        "colab": {
          "base_uri": "https://localhost:8080/"
        },
        "outputId": "3eba9151-0912-48eb-e588-9762de158ba8"
      },
      "source": [
        "square(multiply(a=3, b=2))"
      ],
      "execution_count": null,
      "outputs": [
        {
          "output_type": "execute_result",
          "data": {
            "text/plain": [
              "36"
            ]
          },
          "metadata": {},
          "execution_count": 30
        }
      ]
    },
    {
      "cell_type": "markdown",
      "metadata": {
        "id": "LkpwbQEVMys2"
      },
      "source": [
        "## Exercises"
      ]
    },
    {
      "cell_type": "markdown",
      "source": [
        "Exercise 1.0. Define a function which takes as input 2 values and returns the sum of these"
      ],
      "metadata": {
        "id": "uZNCkoiHo_3Q"
      }
    },
    {
      "cell_type": "code",
      "source": [
        "def sum(x,y):\n",
        "  # write your function here\n",
        "\n",
        "  return x+y\n",
        "\n",
        "result = sum(2,3)\n",
        "print(result)\n",
        "\n",
        "\n",
        "# sum(2,3)"
      ],
      "metadata": {
        "colab": {
          "base_uri": "https://localhost:8080/"
        },
        "id": "UTmxuYnLpV0S",
        "outputId": "86a54931-c38f-4dbf-9eca-e11157809d57"
      },
      "execution_count": null,
      "outputs": [
        {
          "output_type": "stream",
          "name": "stdout",
          "text": [
            "5\n"
          ]
        }
      ]
    },
    {
      "cell_type": "markdown",
      "source": [
        "Exercise: 1.1 find the useless line."
      ],
      "metadata": {
        "id": "fRGAvr0Gmd_O"
      }
    },
    {
      "cell_type": "code",
      "source": [
        "def square(x):\n",
        "  xx = x+2\n",
        "  result = x ** 2\n",
        "  return result\n",
        "# user usage of the function\n",
        "print(square(2))"
      ],
      "metadata": {
        "id": "PngVSE5Ymchi"
      },
      "execution_count": null,
      "outputs": []
    }
  ]
}