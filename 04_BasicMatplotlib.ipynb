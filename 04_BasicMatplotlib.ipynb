{
  "cells": [
    {
      "cell_type": "markdown",
      "metadata": {
        "id": "view-in-github",
        "colab_type": "text"
      },
      "source": [
        "<a href=\"https://colab.research.google.com/github/ggosti/PythonInto-UniBologna/blob/main/04_BasicMatplotlib.ipynb\" target=\"_parent\"><img src=\"https://colab.research.google.com/assets/colab-badge.svg\" alt=\"Open In Colab\"/></a>"
      ]
    },
    {
      "cell_type": "markdown",
      "metadata": {
        "id": "7t3UUva2NDke"
      },
      "source": [
        "# Matplotlib introduction\n",
        "\n",
        "This tutorial is a shorter version of the officail Matplotlab quick start:\n",
        "https://matplotlib.org/stable/users/explain/quick_start.html\n",
        "\n",
        "It covers basic usage patterns.\n"
      ]
    },
    {
      "cell_type": "code",
      "execution_count": null,
      "metadata": {
        "id": "ml_bVnGANDkg"
      },
      "outputs": [],
      "source": [
        "import matplotlib.pyplot as plt\n",
        "import numpy as np"
      ]
    },
    {
      "cell_type": "markdown",
      "metadata": {
        "id": "2Rs4x9S_NDkh"
      },
      "source": [
        "## A simple example\n",
        "\n",
        "Matplotlib graphs your data on `.Figure`\\s (e.g., windows, Jupyter\n",
        "widgets, etc.), each of which can contain one or more `~.axes.Axes`, an\n",
        "area where points can be specified in terms of x-y coordinates (or theta-r\n",
        "in a polar plot, x-y-z in a 3D plot, etc.).  The simplest way of\n",
        "creating a Figure with an Axes is using `.pyplot.subplots`. We can then use\n",
        "`.Axes.plot` to draw some data on the Axes, and `~.pyplot.show` to display\n",
        "the figure:\n",
        "\n"
      ]
    },
    {
      "cell_type": "code",
      "execution_count": null,
      "metadata": {
        "id": "oL9QJy9RNDkh"
      },
      "outputs": [],
      "source": [
        "fig, ax = plt.subplots()             # Create a figure containing a single Axes.\n",
        "ax.plot([1, 2, 3, 4], [1, 4, 2, 3])  # Plot some data on the Axes.\n",
        "plt.show()                           # Show the figure."
      ]
    },
    {
      "cell_type": "markdown",
      "source": [
        "Depending on the environment you are working in, ``plt.show()`` can be left\n",
        "out. This is for example the case with Jupyter notebooks, which\n",
        "automatically show all figures created in a code cell."
      ],
      "metadata": {
        "id": "ywaE0NQ0O00U"
      }
    },
    {
      "cell_type": "markdown",
      "source": [
        "## Parts of a Figure\n",
        "\n",
        "Here are the components of a Matplotlib Figure.\n",
        "\n",
        "<img src=\"https://matplotlib.org/stable/_images/anatomy.png\">"
      ],
      "metadata": {
        "id": "MeSWpVmhO3yn"
      }
    },
    {
      "cell_type": "markdown",
      "source": [
        "### `Figure`\n",
        "\n",
        "The **whole** figure.  The Figure keeps\n",
        "track of all the child :class:`~matplotlib.axes.Axes`, a group of\n",
        "'special' Artists (titles, figure legends, colorbars, etc.), and\n",
        "even nested subfigures.\n",
        "\n",
        "Typically, you'll create a new Figure through one of the following\n",
        "functions:"
      ],
      "metadata": {
        "id": "PvU5xYbwPmfH"
      }
    },
    {
      "cell_type": "code",
      "source": [
        "fig = plt.figure() # an empty figure with no Axes\n",
        "plt.show()"
      ],
      "metadata": {
        "id": "12Oa6YN3O2jB"
      },
      "execution_count": null,
      "outputs": []
    },
    {
      "cell_type": "code",
      "source": [
        "fig, ax = plt.subplots() # a figure with a single Axes\n",
        "plt.show()"
      ],
      "metadata": {
        "id": "MNjVZk4IP8Ss"
      },
      "execution_count": null,
      "outputs": []
    },
    {
      "cell_type": "code",
      "source": [
        "fig, axs = plt.subplots(2, 2) # a figure with a 2x2 grid of Axes"
      ],
      "metadata": {
        "id": "ugMe1lDhQHt8"
      },
      "execution_count": null,
      "outputs": []
    },
    {
      "cell_type": "markdown",
      "source": [
        "`subplots()` and `subplot_mosaic` are convenience functions\n",
        "that additionally create Axes objects inside the Figure, but you can also manually add Axes later on.\n",
        "\n",
        "### `Axes`\n",
        "\n",
        "An Axes is an Artist attached to a Figure that contains a region for\n",
        "plotting data, and usually includes two (or three in the case of 3D)\n",
        "`Axis` objects (be aware of the difference\n",
        "between **Axes** and **Axis**) that provide ticks and tick labels to\n",
        "provide scales for the data in the Axes. Each `Axes` also\n",
        "has a title\n",
        "(set via :meth:`Axes.set_title`), an x-label (set via\n",
        ":meth:`Axes.set_xlabel`), and a y-label set via\n",
        ":meth:`Axes.set_ylabel`).\n",
        "\n",
        "The `Axes` methods are the primary interface for configuring\n",
        "most parts of your plot (adding data, controlling axis scales and\n",
        "limits, adding labels etc.).\n"
      ],
      "metadata": {
        "id": "nw6pDls8RQW1"
      }
    },
    {
      "cell_type": "markdown",
      "metadata": {
        "id": "BxpP1D71NDkh"
      },
      "source": [
        "\n",
        "\n",
        "\n",
        "## Plotting functions inputs\n",
        "\n",
        "Plotting functions expect `numpy.array` or `numpy.ma.masked_array` as\n",
        "input, or objects that can be passed to `numpy.asarray`.\n",
        "Classes that are similar to arrays ('array-like') such as `pandas`\n",
        "data objects and `numpy.matrix` may not work as intended.  \n"
      ]
    },
    {
      "cell_type": "code",
      "execution_count": null,
      "metadata": {
        "id": "7IBwzUHlNDki"
      },
      "outputs": [],
      "source": [
        "np.random.seed(19680801)  # seed the random number generator.\n",
        "x = np.arange(50),\n",
        "y = x + 10 * np.random.randn(50)\n",
        "size = np.random.randint(0, 50, 50) * 10\n",
        "color = np.random.randn(50)\n",
        "\n",
        "\n",
        "fig, ax = plt.subplots(figsize=(5, 2.7), layout='constrained')\n",
        "ax.scatter(x, y, c=color, s=size)\n",
        "ax.set_xlabel('x')\n",
        "ax.set_ylabel('y')"
      ]
    },
    {
      "cell_type": "markdown",
      "metadata": {
        "id": "UZdJLvcGNDki"
      },
      "source": [
        "\n",
        "## Coding styles\n",
        "\n",
        "### The explicit and the implicit interfaces\n",
        "\n",
        "As noted above, there are essentially two ways to use Matplotlib:\n",
        "\n",
        "- Explicitly create Figures and Axes, and call methods on them (the\n",
        "  \"object-oriented (OO) style\").\n",
        "- Rely on pyplot to implicitly create and manage the Figures and Axes, and\n",
        "  use pyplot functions for plotting.\n",
        "\n",
        "See `api_interfaces` for an explanation of the tradeoffs between the\n",
        "implicit and explicit interfaces.\n",
        "\n",
        "So one can use the OO-style\n",
        "\n"
      ]
    },
    {
      "cell_type": "code",
      "execution_count": null,
      "metadata": {
        "id": "ZOrwa2KVNDki"
      },
      "outputs": [],
      "source": [
        "x = np.linspace(0, 2, 100)  # Sample data.\n",
        "\n",
        "# Note that even in the OO-style, we use `.pyplot.figure` to create the Figure.\n",
        "fig, ax = plt.subplots(figsize=(5, 2.7), layout='constrained')\n",
        "ax.plot(x, x, label='linear')  # Plot some data on the Axes.\n",
        "ax.plot(x, x**2, label='quadratic')  # Plot more data on the Axes...\n",
        "ax.plot(x, x**3, label='cubic')  # ... and some more.\n",
        "ax.set_xlabel('x label')  # Add an x-label to the Axes.\n",
        "ax.set_ylabel('y label')  # Add a y-label to the Axes.\n",
        "ax.set_title(\"Simple Plot\")  # Add a title to the Axes.\n",
        "ax.legend()  # Add a legend."
      ]
    },
    {
      "cell_type": "markdown",
      "metadata": {
        "id": "IUJTAzblNDki"
      },
      "source": [
        "or the pyplot-style:\n",
        "\n"
      ]
    },
    {
      "cell_type": "code",
      "execution_count": null,
      "metadata": {
        "id": "ACMhnALHNDki"
      },
      "outputs": [],
      "source": [
        "x = np.linspace(0, 2, 100)  # Sample data.\n",
        "\n",
        "plt.figure(figsize=(5, 2.7), layout='constrained')\n",
        "plt.plot(x, x, label='linear')  # Plot some data on the (implicit) Axes.\n",
        "plt.plot(x, x**2, label='quadratic')  # etc.\n",
        "plt.plot(x, x**3, label='cubic')\n",
        "plt.xlabel('x label')\n",
        "plt.ylabel('y label')\n",
        "plt.title(\"Simple Plot\")\n",
        "plt.legend()"
      ]
    }
  ],
  "metadata": {
    "kernelspec": {
      "display_name": "Python 3",
      "name": "python3"
    },
    "language_info": {
      "codemirror_mode": {
        "name": "ipython",
        "version": 3
      },
      "file_extension": ".py",
      "mimetype": "text/x-python",
      "name": "python",
      "nbconvert_exporter": "python",
      "pygments_lexer": "ipython3",
      "version": "3.12.2"
    },
    "colab": {
      "provenance": [],
      "include_colab_link": true
    }
  },
  "nbformat": 4,
  "nbformat_minor": 0
}