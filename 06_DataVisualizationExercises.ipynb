{
  "nbformat": 4,
  "nbformat_minor": 0,
  "metadata": {
    "colab": {
      "provenance": [],
      "authorship_tag": "ABX9TyOGq53Az5Utt2TPCpp8Fdgq",
      "include_colab_link": true
    },
    "kernelspec": {
      "name": "python3",
      "display_name": "Python 3"
    },
    "language_info": {
      "name": "python"
    }
  },
  "cells": [
    {
      "cell_type": "markdown",
      "metadata": {
        "id": "view-in-github",
        "colab_type": "text"
      },
      "source": [
        "<a href=\"https://colab.research.google.com/github/ggosti/PythonIntoUniBologna/blob/main/06_DataVisualizationExercises.ipynb\" target=\"_parent\"><img src=\"https://colab.research.google.com/assets/colab-badge.svg\" alt=\"Open In Colab\"/></a>"
      ]
    },
    {
      "cell_type": "code",
      "source": [
        "import pandas as pd\n",
        "import numpy as np\n",
        "import matplotlib.pyplot as plt"
      ],
      "metadata": {
        "id": "qybwkd0l_8Ae"
      },
      "execution_count": null,
      "outputs": []
    },
    {
      "cell_type": "markdown",
      "source": [
        "# Exercise 1: Artifact Types Distribution\n"
      ],
      "metadata": {
        "id": "Fv2ZP653vK6A"
      }
    },
    {
      "cell_type": "code",
      "source": [
        "# Generate sample data\n",
        "np.random.seed(42)\n",
        "artifact_types = ['Pottery', 'Tool', 'Jewelry', 'Weapon', 'Statue']\n",
        "sites = ['Pompeii', 'Stonehenge', 'Machu Picchu', 'Giza', 'Tikal']\n",
        "num_records = 100\n",
        "\n",
        "data = {\n",
        "    'Artifact ID': range(1, num_records + 1),\n",
        "    'Artifact Type': np.random.choice(artifact_types, num_records),\n",
        "    'Site': np.random.choice(sites, num_records)\n",
        "}\n",
        "df = pd.DataFrame(data)\n",
        "\n",
        "# Count the occurrences of each artifact type\n",
        "artifact_counts = df['Artifact Type'].value_counts()\n",
        "\n",
        "\n",
        "# Create a bar chart\n"
      ],
      "metadata": {
        "id": "XphXfxEYHG2v"
      },
      "execution_count": null,
      "outputs": []
    },
    {
      "cell_type": "markdown",
      "source": [
        "# Exercise 2: Mapping Artifact Locations"
      ],
      "metadata": {
        "id": "Pa1lw2i6vR5A"
      }
    },
    {
      "cell_type": "code",
      "source": [
        "# Generate sample data\n",
        "np.random.seed(42)\n",
        "latitudes = np.random.uniform(-10, 10, num_records)\n",
        "longitudes = np.random.uniform(-10, 10, num_records)\n",
        "\n",
        "data = {\n",
        "    'Artifact ID': range(1, num_records + 1),\n",
        "    'Latitude': latitudes,\n",
        "    'Longitude': longitudes,\n",
        "    'Artifact Type': np.random.choice(artifact_types, num_records)\n",
        "}\n",
        "df = pd.DataFrame(data)\n",
        "\n",
        "# Get all artifact categories\n",
        "categories = df['Artifact Type'].astype('category').cat.categories\n",
        "\n",
        "# Create a scatter plot\n",
        "for c in categories:\n"
      ],
      "metadata": {
        "id": "snbylaeOjZQU"
      },
      "execution_count": null,
      "outputs": []
    },
    {
      "cell_type": "markdown",
      "source": [
        "# Exercise 3: Examining Temporal Trends in Findings"
      ],
      "metadata": {
        "id": "K8EEJfTjvYdX"
      }
    },
    {
      "cell_type": "code",
      "source": [
        "# Generate sample data\n",
        "years = np.random.randint(1900, 2021, num_records)\n",
        "\n",
        "data = {\n",
        "    'Artifact ID': range(1, num_records + 1),\n",
        "    'Year Found': years,\n",
        "    'Artifact Type': np.random.choice(artifact_types, num_records)\n",
        "}\n",
        "df = pd.DataFrame(data)\n",
        "\n",
        "# Group by year and count the occurrences\n",
        "yearly_counts = df.groupby('Year Found').size()\n",
        "\n",
        "# Create a line plot\n"
      ],
      "metadata": {
        "id": "ti3-qsInj9xI"
      },
      "execution_count": null,
      "outputs": []
    },
    {
      "cell_type": "code",
      "source": [],
      "metadata": {
        "id": "WJPmmPmXkFbC"
      },
      "execution_count": null,
      "outputs": []
    }
  ]
}